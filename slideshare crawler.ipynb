{
 "cells": [
  {
   "cell_type": "code",
   "execution_count": 2,
   "id": "bc20e2a5",
   "metadata": {},
   "outputs": [],
   "source": [
    "import requests\n",
    "from bs4 import BeautifulSoup"
   ]
  },
  {
   "cell_type": "code",
   "execution_count": 25,
   "id": "fe542582",
   "metadata": {},
   "outputs": [],
   "source": [
    "url=input('your url:')\n",
    "\n",
    "response = requests.get(url)\n",
    "data = BeautifulSoup(response.text,'lxml')"
   ]
  },
  {
   "cell_type": "code",
   "execution_count": 27,
   "id": "0b87a618",
   "metadata": {},
   "outputs": [],
   "source": [
    "soup = data.find_all('img',{'class':'slide_image'})"
   ]
  },
  {
   "cell_type": "code",
   "execution_count": 29,
   "id": "8f40c831",
   "metadata": {},
   "outputs": [],
   "source": [
    "img_links = [sup.get('data-full') for sup in soup]"
   ]
  },
  {
   "cell_type": "code",
   "execution_count": 30,
   "id": "812eea32",
   "metadata": {},
   "outputs": [],
   "source": [
    "for index, link in enumerate(img_links):\n",
    " \n",
    "    img = requests.get(link)  # 下載圖片\n",
    " \n",
    "    with open(\"images\"+ str(index+1) + \".jpg\", \"wb\") as file:  # 開啟資料夾及命名圖片檔\n",
    "        file.write(img.content)"
   ]
  }
 ],
 "metadata": {
  "kernelspec": {
   "display_name": "Python 3",
   "language": "python",
   "name": "python3"
  },
  "language_info": {
   "codemirror_mode": {
    "name": "ipython",
    "version": 3
   },
   "file_extension": ".py",
   "mimetype": "text/x-python",
   "name": "python",
   "nbconvert_exporter": "python",
   "pygments_lexer": "ipython3",
   "version": "3.7.10"
  }
 },
 "nbformat": 4,
 "nbformat_minor": 5
}
