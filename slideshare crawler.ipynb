{
 "cells": [
  {
   "cell_type": "code",
   "execution_count": 19,
   "id": "bc20e2a5",
   "metadata": {},
   "outputs": [],
   "source": [
    "import requests\n",
    "from bs4 import BeautifulSoup\n",
    "# import json"
   ]
  },
  {
   "cell_type": "code",
   "execution_count": 37,
   "id": "fe542582",
   "metadata": {},
   "outputs": [],
   "source": [
    "url='https://www.slideshare.net/secret/3rPQJv0r0avq8D'\n",
    "headers = {'Accept':'text/html,application/xhtml+xml,application/xml;q=0.9,*/*;q=0.8',\n",
    "'Host':'www.slideshare.net',\n",
    "'User-Agent':'Mozilla/5.0 (Macintosh; Intel Mac OS X 10_15_7) AppleWebKit/605.1.15 (KHTML, like Gecko) Version/14.1.1 Safari/605.1.15',\n",
    "'Accept-Language':'en-us',\n",
    "'Accept-Encoding':'gzip, deflate, br',\n",
    "'Connection':'keep-alive'}\n",
    "response = requests.get(url,headers=headers)\n",
    "data = BeautifulSoup(response.text,'lxml')"
   ]
  },
  {
   "cell_type": "code",
   "execution_count": 38,
   "id": "0b87a618",
   "metadata": {},
   "outputs": [],
   "source": [
    "soup = data.find_all('img',{'class':'slide_image'})"
   ]
  },
  {
   "cell_type": "code",
   "execution_count": 39,
   "id": "8f40c831",
   "metadata": {},
   "outputs": [],
   "source": [
    "img_links = [sup.get('data-full') for sup in soup]"
   ]
  },
  {
   "cell_type": "code",
   "execution_count": 40,
   "id": "812eea32",
   "metadata": {},
   "outputs": [],
   "source": [
    "for index, link in enumerate(img_links):\n",
    " \n",
    "    img = requests.get(link)  # 下載圖片\n",
    " \n",
    "    with open(\"images\"+ str(index+1) + \".jpg\", \"wb\") as file:  # 開啟資料夾及命名圖片檔\n",
    "        file.write(img.content)"
   ]
  }
 ],
 "metadata": {
  "kernelspec": {
   "display_name": "Python 3",
   "language": "python",
   "name": "python3"
  },
  "language_info": {
   "codemirror_mode": {
    "name": "ipython",
    "version": 3
   },
   "file_extension": ".py",
   "mimetype": "text/x-python",
   "name": "python",
   "nbconvert_exporter": "python",
   "pygments_lexer": "ipython3",
   "version": "3.7.10"
  }
 },
 "nbformat": 4,
 "nbformat_minor": 5
}
