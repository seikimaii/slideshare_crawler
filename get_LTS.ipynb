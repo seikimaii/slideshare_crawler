{
 "cells": [
  {
   "cell_type": "markdown",
   "id": "510877a5",
   "metadata": {},
   "source": [
    "## 自由電子報"
   ]
  },
  {
   "cell_type": "code",
   "execution_count": 1,
   "id": "008dbe1a",
   "metadata": {},
   "outputs": [],
   "source": [
    "import requests\n",
    "from bs4 import BeautifulSoup\n",
    "import pandas as pd\n",
    "import time\n",
    "import numpy as np"
   ]
  },
  {
   "cell_type": "code",
   "execution_count": 2,
   "id": "c2a29c0d",
   "metadata": {},
   "outputs": [
    {
     "name": "stdout",
     "output_type": "stream",
     "text": [
      "https://news.ltn.com.tw/news/life/breakingnews/3623295\n",
      "https://news.ltn.com.tw/news/life/breakingnews/3622867\n",
      "https://news.ltn.com.tw/news/life/breakingnews/3622912\n",
      "https://news.ltn.com.tw/news/life/breakingnews/3623023\n",
      "https://talk.ltn.com.tw/article/breakingnews/3623134\n"
     ]
    }
   ],
   "source": [
    "urls = pd.read_csv('../LTS_urls.csv')\n",
    "for url in urls['Urls'][:5]:\n",
    "    print(url)"
   ]
  },
  {
   "cell_type": "code",
   "execution_count": 3,
   "id": "c4c9c6a6",
   "metadata": {
    "scrolled": true
   },
   "outputs": [
    {
     "name": "stdout",
     "output_type": "stream",
     "text": [
      "第1篇\n",
      "第2篇\n",
      "第3篇\n",
      "第4篇\n",
      "第5篇\n",
      "第6篇\n",
      "第7篇\n",
      "第8篇\n",
      "第9篇\n",
      "第10篇\n",
      "第11篇\n",
      "第12篇\n",
      "第13篇\n",
      "第14篇\n",
      "第15篇\n",
      "第16篇\n",
      "第17篇\n",
      "第18篇\n",
      "第19篇\n",
      "第20篇\n",
      "第21篇\n",
      "第22篇\n",
      "第23篇\n",
      "第24篇\n",
      "第25篇\n",
      "第26篇\n",
      "第27篇\n",
      "第28篇\n",
      "第29篇\n",
      "第30篇\n",
      "第31篇\n",
      "第32篇\n",
      "第33篇\n",
      "第34篇\n",
      "第35篇\n",
      "第36篇\n",
      "第37篇\n",
      "第38篇\n",
      "第39篇\n",
      "第40篇\n",
      "第41篇\n",
      "第42篇\n",
      "第43篇\n",
      "第44篇\n",
      "第45篇\n",
      "第46篇\n",
      "第47篇\n",
      "第48篇\n",
      "第49篇\n",
      "第50篇\n",
      "第51篇\n",
      "第52篇\n",
      "第53篇\n",
      "第54篇\n",
      "第55篇\n",
      "第56篇\n",
      "第57篇\n",
      "第58篇\n",
      "第59篇\n",
      "第60篇\n",
      "第61篇\n",
      "第62篇\n",
      "第63篇\n",
      "第64篇\n",
      "第65篇\n",
      "第66篇\n",
      "第67篇\n",
      "第68篇\n",
      "第69篇\n",
      "第70篇\n",
      "第71篇\n",
      "第72篇\n",
      "第73篇\n",
      "第74篇\n",
      "第75篇\n",
      "第76篇\n",
      "第77篇\n",
      "第78篇\n",
      "第79篇\n",
      "第80篇\n",
      "第81篇\n",
      "第82篇\n",
      "第83篇\n",
      "第84篇\n",
      "第85篇\n",
      "第86篇\n",
      "第87篇\n"
     ]
    }
   ],
   "source": [
    "#開啟txt檔讀取網址\n",
    "content = []\n",
    "n = 1\n",
    "urls = pd.read_csv('../LTS_urls.csv')\n",
    "for url in urls['Urls']:\n",
    "    response = requests.get(url)#headers=headers)\n",
    "    time.sleep(3)\n",
    "    soup = BeautifulSoup(response.text,'html.parser')\n",
    "    tags = soup.find_all(('div'),{'class':'text boxTitle boxText'})\n",
    "    for tag in tags:\n",
    "        parhs = tag.find_all('p',{'class':None})\n",
    "    for parh in parhs:\n",
    "        content.append(parh.get_text())\n",
    "    print(f'第{n}篇',sep=' ')\n",
    "    n+=1"
   ]
  },
  {
   "cell_type": "code",
   "execution_count": 4,
   "id": "6e49dc52",
   "metadata": {},
   "outputs": [],
   "source": [
    "news_text = pd.DataFrame({'text':content,'Label':np.ones(len(content))+1})"
   ]
  },
  {
   "cell_type": "code",
   "execution_count": 5,
   "id": "3a7fa469",
   "metadata": {},
   "outputs": [
    {
     "data": {
      "text/plain": [
       "591"
      ]
     },
     "execution_count": 5,
     "metadata": {},
     "output_type": "execute_result"
    }
   ],
   "source": [
    "len(news_text)"
   ]
  },
  {
   "cell_type": "code",
   "execution_count": 6,
   "id": "c0a3eeca",
   "metadata": {},
   "outputs": [
    {
     "data": {
      "text/plain": [
       "433"
      ]
     },
     "execution_count": 6,
     "metadata": {},
     "output_type": "execute_result"
    }
   ],
   "source": [
    "news_text.dropna(inplace=True)\n",
    "news_text.drop_duplicates(inplace=True)\n",
    "len(news_text)"
   ]
  },
  {
   "cell_type": "code",
   "execution_count": 7,
   "id": "60a495f0",
   "metadata": {},
   "outputs": [],
   "source": [
    "news_text.to_csv('../LTS_news_label.csv')"
   ]
  },
  {
   "cell_type": "markdown",
   "id": "62496c74",
   "metadata": {},
   "source": [
    "## 切割與集合"
   ]
  },
  {
   "cell_type": "code",
   "execution_count": 8,
   "id": "214612bd",
   "metadata": {},
   "outputs": [],
   "source": [
    "n1 = pd.read_csv('../LTS_news_label.csv')\n",
    "n2 = pd.read_csv('../CNA_news_label.csv')\n",
    "n3 = pd.read_csv('../china_Plus_news.csv')\n",
    "# n4 = pd.read_csv('../news_4.csv')\n",
    "# n5 = pd.read_csv('../data/news_labels_2.csv')"
   ]
  },
  {
   "cell_type": "code",
   "execution_count": 9,
   "id": "e537fa0a",
   "metadata": {},
   "outputs": [],
   "source": [
    "nn = pd.concat([n1,n2,n3])"
   ]
  },
  {
   "cell_type": "code",
   "execution_count": 10,
   "id": "55ac0544",
   "metadata": {},
   "outputs": [],
   "source": [
    "nn = nn.drop(columns='Unnamed: 0')"
   ]
  },
  {
   "cell_type": "code",
   "execution_count": 15,
   "id": "8fd19aad",
   "metadata": {},
   "outputs": [
    {
     "data": {
      "text/html": [
       "<div>\n",
       "<style scoped>\n",
       "    .dataframe tbody tr th:only-of-type {\n",
       "        vertical-align: middle;\n",
       "    }\n",
       "\n",
       "    .dataframe tbody tr th {\n",
       "        vertical-align: top;\n",
       "    }\n",
       "\n",
       "    .dataframe thead th {\n",
       "        text-align: right;\n",
       "    }\n",
       "</style>\n",
       "<table border=\"1\" class=\"dataframe\">\n",
       "  <thead>\n",
       "    <tr style=\"text-align: right;\">\n",
       "      <th></th>\n",
       "      <th>Unnamed: 0</th>\n",
       "      <th>text</th>\n",
       "      <th>Label</th>\n",
       "    </tr>\n",
       "  </thead>\n",
       "  <tbody>\n",
       "    <tr>\n",
       "      <th>0</th>\n",
       "      <td>0</td>\n",
       "      <td>&lt;p&gt;（中央社記者陳婕翎、江慧珺台北7日電）國內COVID-19疫情持續，除Delta變種病...</td>\n",
       "      <td>2.0</td>\n",
       "    </tr>\n",
       "    <tr>\n",
       "      <th>1</th>\n",
       "      <td>1</td>\n",
       "      <td>&lt;p&gt;確診COVID-19（2019冠狀病毒疾病）的長榮貨機機師為案16119及案16120...</td>\n",
       "      <td>2.0</td>\n",
       "    </tr>\n",
       "    <tr>\n",
       "      <th>2</th>\n",
       "      <td>2</td>\n",
       "      <td>&lt;p&gt;至於新北市某幼兒園COVID-19群聚案，最初是土城一對夫妻染疫，妻子是幼兒園老師，這...</td>\n",
       "      <td>2.0</td>\n",
       "    </tr>\n",
       "    <tr>\n",
       "      <th>3</th>\n",
       "      <td>3</td>\n",
       "      <td>&lt;p&gt;陳時中表示，新北市昨天已跟進桃園市管理方式，採取加強二級防疫措施，包含小學預防性停課，...</td>\n",
       "      <td>2.0</td>\n",
       "    </tr>\n",
       "    <tr>\n",
       "      <th>4</th>\n",
       "      <td>4</td>\n",
       "      <td>&lt;p&gt;陳時中表示，目前還沒規劃將全國疫情警戒升至第三級，但若新北疫情未能妥善控制，當然會考慮...</td>\n",
       "      <td>2.0</td>\n",
       "    </tr>\n",
       "    <tr>\n",
       "      <th>...</th>\n",
       "      <td>...</td>\n",
       "      <td>...</td>\n",
       "      <td>...</td>\n",
       "    </tr>\n",
       "    <tr>\n",
       "      <th>662</th>\n",
       "      <td>803</td>\n",
       "      <td>&lt;p&gt;陳時中解釋，部分族群尚未列入疫苗接種適應症，如未滿12歲孩童尚無法接種疫苗，且有一部分...</td>\n",
       "      <td>2.0</td>\n",
       "    </tr>\n",
       "    <tr>\n",
       "      <th>663</th>\n",
       "      <td>805</td>\n",
       "      <td>&lt;p&gt;（中央社記者葉素萍台北7日電）總統府發言人張惇涵表示，包括今天抵台的疫苗在內，日本政府...</td>\n",
       "      <td>2.0</td>\n",
       "    </tr>\n",
       "    <tr>\n",
       "      <th>664</th>\n",
       "      <td>806</td>\n",
       "      <td>&lt;p&gt;日本捐贈台灣的第4批AZ疫苗6萬4000劑今天下午抵台。張惇涵透過新聞稿表示，日本政府...</td>\n",
       "      <td>2.0</td>\n",
       "    </tr>\n",
       "    <tr>\n",
       "      <th>665</th>\n",
       "      <td>807</td>\n",
       "      <td>&lt;p&gt;他說，在當前國際疫情持續嚴峻，國際疫苗供應狀況持續緊張，且日本國內已開放民眾施打AZ疫...</td>\n",
       "      <td>2.0</td>\n",
       "    </tr>\n",
       "    <tr>\n",
       "      <th>666</th>\n",
       "      <td>808</td>\n",
       "      <td>&lt;p&gt;張惇涵指出，總統府也要再次誠摯感謝過程中幫忙奔走的各界人士，以及外交團隊的努力。府方深...</td>\n",
       "      <td>2.0</td>\n",
       "    </tr>\n",
       "  </tbody>\n",
       "</table>\n",
       "<p>667 rows × 3 columns</p>\n",
       "</div>"
      ],
      "text/plain": [
       "     Unnamed: 0                                               text  Label\n",
       "0             0  <p>（中央社記者陳婕翎、江慧珺台北7日電）國內COVID-19疫情持續，除Delta變種病...    2.0\n",
       "1             1  <p>確診COVID-19（2019冠狀病毒疾病）的長榮貨機機師為案16119及案16120...    2.0\n",
       "2             2  <p>至於新北市某幼兒園COVID-19群聚案，最初是土城一對夫妻染疫，妻子是幼兒園老師，這...    2.0\n",
       "3             3  <p>陳時中表示，新北市昨天已跟進桃園市管理方式，採取加強二級防疫措施，包含小學預防性停課，...    2.0\n",
       "4             4  <p>陳時中表示，目前還沒規劃將全國疫情警戒升至第三級，但若新北疫情未能妥善控制，當然會考慮...    2.0\n",
       "..          ...                                                ...    ...\n",
       "662         803  <p>陳時中解釋，部分族群尚未列入疫苗接種適應症，如未滿12歲孩童尚無法接種疫苗，且有一部分...    2.0\n",
       "663         805  <p>（中央社記者葉素萍台北7日電）總統府發言人張惇涵表示，包括今天抵台的疫苗在內，日本政府...    2.0\n",
       "664         806  <p>日本捐贈台灣的第4批AZ疫苗6萬4000劑今天下午抵台。張惇涵透過新聞稿表示，日本政府...    2.0\n",
       "665         807  <p>他說，在當前國際疫情持續嚴峻，國際疫苗供應狀況持續緊張，且日本國內已開放民眾施打AZ疫...    2.0\n",
       "666         808  <p>張惇涵指出，總統府也要再次誠摯感謝過程中幫忙奔走的各界人士，以及外交團隊的努力。府方深...    2.0\n",
       "\n",
       "[667 rows x 3 columns]"
      ]
     },
     "execution_count": 15,
     "metadata": {},
     "output_type": "execute_result"
    }
   ],
   "source": [
    "n2"
   ]
  },
  {
   "cell_type": "code",
   "execution_count": 16,
   "id": "0aba0446",
   "metadata": {},
   "outputs": [],
   "source": [
    "nn = nn.reset_index(drop=True)\n",
    "nn = pd.DataFrame({'text':nn['text'],'Label':np.ones(len(nn))+1})"
   ]
  },
  {
   "cell_type": "code",
   "execution_count": 17,
   "id": "409ca8d0",
   "metadata": {},
   "outputs": [],
   "source": [
    "n6 = pd.concat([nn,n5])"
   ]
  },
  {
   "cell_type": "code",
   "execution_count": 19,
   "id": "961a8140",
   "metadata": {},
   "outputs": [],
   "source": [
    "n6 = n6.drop(columns='Unnamed: 0')"
   ]
  },
  {
   "cell_type": "code",
   "execution_count": 20,
   "id": "4f4cf2e2",
   "metadata": {},
   "outputs": [],
   "source": [
    "n6.reset_index(drop=True,inplace=True)"
   ]
  },
  {
   "cell_type": "code",
   "execution_count": 44,
   "id": "cd18e1a6",
   "metadata": {},
   "outputs": [],
   "source": [
    "n6.drop(columns='index',inplace=True)"
   ]
  },
  {
   "cell_type": "code",
   "execution_count": 22,
   "id": "0d4501cf",
   "metadata": {},
   "outputs": [
    {
     "data": {
      "text/plain": [
       "(2921, 2)"
      ]
     },
     "execution_count": 22,
     "metadata": {},
     "output_type": "execute_result"
    }
   ],
   "source": [
    "n6.shape"
   ]
  },
  {
   "cell_type": "code",
   "execution_count": 23,
   "id": "c51db7a9",
   "metadata": {},
   "outputs": [
    {
     "data": {
      "text/plain": [
       "(2897, 2)"
      ]
     },
     "execution_count": 23,
     "metadata": {},
     "output_type": "execute_result"
    }
   ],
   "source": [
    "n6.drop_duplicates().shape"
   ]
  },
  {
   "cell_type": "code",
   "execution_count": 24,
   "id": "1e336070",
   "metadata": {},
   "outputs": [],
   "source": [
    "n6.drop_duplicates(inplace=True)"
   ]
  },
  {
   "cell_type": "code",
   "execution_count": 25,
   "id": "b3b0fe85",
   "metadata": {},
   "outputs": [],
   "source": [
    "n6.reset_index(drop=True,inplace=True)"
   ]
  },
  {
   "cell_type": "code",
   "execution_count": 26,
   "id": "7cede2d6",
   "metadata": {},
   "outputs": [],
   "source": [
    "n6.to_csv('news_labels_3.csv')"
   ]
  },
  {
   "cell_type": "code",
   "execution_count": 27,
   "id": "15f348ca",
   "metadata": {},
   "outputs": [],
   "source": [
    "china = pd.read_csv('../data/Label_chinaTime.csv')\n",
    "add = pd.read_csv('../data/add_coment.csv')"
   ]
  },
  {
   "cell_type": "code",
   "execution_count": 28,
   "id": "c1d2931f",
   "metadata": {},
   "outputs": [],
   "source": [
    "ca = pd.concat([china,add])"
   ]
  },
  {
   "cell_type": "code",
   "execution_count": 30,
   "id": "295cc96e",
   "metadata": {},
   "outputs": [
    {
     "data": {
      "text/plain": [
       "(16585, 2)"
      ]
     },
     "execution_count": 30,
     "metadata": {},
     "output_type": "execute_result"
    }
   ],
   "source": [
    "ca.shape"
   ]
  },
  {
   "cell_type": "code",
   "execution_count": 29,
   "id": "4e85644c",
   "metadata": {},
   "outputs": [
    {
     "data": {
      "text/plain": [
       "(15579, 2)"
      ]
     },
     "execution_count": 29,
     "metadata": {},
     "output_type": "execute_result"
    }
   ],
   "source": [
    "ca.drop_duplicates().shape"
   ]
  },
  {
   "cell_type": "code",
   "execution_count": 31,
   "id": "7715b2b4",
   "metadata": {},
   "outputs": [],
   "source": [
    "n7 = pd.read_csv('../data/news_labels_2.csv')"
   ]
  },
  {
   "cell_type": "code",
   "execution_count": 32,
   "id": "d586c122",
   "metadata": {},
   "outputs": [
    {
     "data": {
      "text/plain": [
       "(1793, 3)"
      ]
     },
     "execution_count": 32,
     "metadata": {},
     "output_type": "execute_result"
    }
   ],
   "source": [
    "n7.shape"
   ]
  },
  {
   "cell_type": "code",
   "execution_count": 38,
   "id": "c9042cba",
   "metadata": {},
   "outputs": [
    {
     "name": "stdout",
     "output_type": "stream",
     "text": [
      "(18378, 3) (17372, 3)\n"
     ]
    }
   ],
   "source": [
    "n8 = pd.concat([n7,ca])\n",
    "print(n8.shape,n8.drop_duplicates().shape)"
   ]
  },
  {
   "cell_type": "code",
   "execution_count": 47,
   "id": "234ebda8",
   "metadata": {},
   "outputs": [],
   "source": [
    "data = pd.concat([ca,n6,n7])"
   ]
  },
  {
   "cell_type": "code",
   "execution_count": 50,
   "id": "400f51c7",
   "metadata": {},
   "outputs": [],
   "source": [
    "data.reset_index(drop=True,inplace=True)\n",
    "data.to_csv('china_Plus_news.csv')"
   ]
  },
  {
   "cell_type": "code",
   "execution_count": 48,
   "id": "8c5e1604",
   "metadata": {},
   "outputs": [],
   "source": [
    "data.drop(columns='Unnamed: 0',inplace=True)\n",
    "data.dropna(inplace=True)\n",
    "data.drop_duplicates(inplace=True)"
   ]
  },
  {
   "cell_type": "code",
   "execution_count": 52,
   "id": "be5f1ba0",
   "metadata": {},
   "outputs": [
    {
     "name": "stdout",
     "output_type": "stream",
     "text": [
      "4779 8618 5078\n"
     ]
    }
   ],
   "source": [
    "print(len(data[data['Label']==0]),len(data[data['Label']==1]),len(data[data['Label']==2]))"
   ]
  },
  {
   "cell_type": "code",
   "execution_count": 53,
   "id": "3336dc37",
   "metadata": {},
   "outputs": [
    {
     "data": {
      "text/plain": [
       "(18475, 2)"
      ]
     },
     "execution_count": 53,
     "metadata": {},
     "output_type": "execute_result"
    }
   ],
   "source": [
    "pos = "
   ]
  },
  {
   "cell_type": "code",
   "execution_count": null,
   "id": "390dcb26",
   "metadata": {},
   "outputs": [],
   "source": []
  },
  {
   "cell_type": "code",
   "execution_count": 22,
   "id": "68fdb472",
   "metadata": {},
   "outputs": [
    {
     "data": {
      "text/plain": [
       "1045"
      ]
     },
     "execution_count": 22,
     "metadata": {},
     "output_type": "execute_result"
    }
   ],
   "source": [
    "# nn = nn.drop(columns=['Unnamed: 0'])\n",
    "nn.dropna(inplace=True)\n",
    "nn.drop_duplicates(inplace=True)\n",
    "len(nn)"
   ]
  },
  {
   "cell_type": "code",
   "execution_count": 23,
   "id": "25561b0e",
   "metadata": {},
   "outputs": [],
   "source": [
    "nn = nn.reset_index(drop=True)\n",
    "nn = pd.DataFrame({'text':nn['text'],'Label':np.ones(len(nn))+1})"
   ]
  },
  {
   "cell_type": "code",
   "execution_count": 24,
   "id": "613a5b1a",
   "metadata": {},
   "outputs": [],
   "source": [
    "n6 = pd.concat([nn,n5])"
   ]
  },
  {
   "cell_type": "code",
   "execution_count": 26,
   "id": "fe3ca3ea",
   "metadata": {},
   "outputs": [
    {
     "data": {
      "text/plain": [
       "763"
      ]
     },
     "execution_count": 26,
     "metadata": {},
     "output_type": "execute_result"
    }
   ],
   "source": [
    "n6 = n6.dropna()\n",
    "n6 = n6.drop_duplicates()\n",
    "len(n6)"
   ]
  },
  {
   "cell_type": "code",
   "execution_count": 43,
   "id": "0ebb1108",
   "metadata": {},
   "outputs": [],
   "source": [
    "nn.to_csv('news_labels.csv')"
   ]
  },
  {
   "cell_type": "code",
   "execution_count": 2,
   "id": "43366459",
   "metadata": {},
   "outputs": [],
   "source": [
    "url='https://news.ltn.com.tw/news/life/breakingnews/3662649'\n",
    "\n",
    "\n",
    "response = requests.get(url)#headers=headers)\n",
    "data = BeautifulSoup(response.text,'html.parser')"
   ]
  },
  {
   "cell_type": "code",
   "execution_count": 3,
   "id": "93a8cf1b",
   "metadata": {},
   "outputs": [],
   "source": [
    "soup = data.find_all(('div'),{'class':'text boxTitle boxText'})"
   ]
  },
  {
   "cell_type": "code",
   "execution_count": 4,
   "id": "2c7562b3",
   "metadata": {},
   "outputs": [
    {
     "name": "stdout",
     "output_type": "stream",
     "text": [
      "指揮官陳時中也證實，目前檢視供貨時程，2個月是滿穩定的，預計第9輪疫苗接種有可能開放BNT疫苗。圖為BNT疫苗2日抵台。（資料照）\n",
      "〔記者林惠琴／台北報導〕鴻海創辦人郭台銘今日表示，BNT疫苗將預計「週週到貨」，中央流行疫情指揮中心指揮官陳時中也證實，目前檢視供貨時程，2個月是滿穩定的，預計第9輪疫苗接種有可能開放BNT疫苗且可能朝混打方向，只是對象尚未決定。\n",
      "繼9月2日首批93.3萬劑BNT疫苗到貨後，郭台銘指出，第2批簡體中文標籤的疫苗也應該在本週結束前到貨，至於客製化標籤的疫苗，首批有望在中秋節左右抵台，後續預計每週以70至80萬劑的數量「週週到貨」。\n",
      "教育部也在指揮中心記者會進一步說明12歲到未滿18歲青少年校園接種BNT疫苗的細節，預計自9月23日起開打，接種順序自高中/五專起依序安排，若學生接種疫苗後有不舒服的狀況，或是自願到醫療機構接種疫苗者，可以向學校申請疫苗假，不會列入出缺席紀錄，含接種當日以3天為原則，必要時得延長；家長如有請假照顧孩子的需求，也可申請防疫照顧假。\n",
      "「武漢肺炎專區」請點此，更多相關訊息，帶您第一手掌握。\n"
     ]
    }
   ],
   "source": [
    "for sup in soup:\n",
    "    sp = sup.find_all('p',{'class':None})\n",
    "for s in sp:\n",
    "    print(s.get_text())"
   ]
  },
  {
   "cell_type": "code",
   "execution_count": 12,
   "id": "03d8f957",
   "metadata": {},
   "outputs": [
    {
     "name": "stdout",
     "output_type": "stream",
     "text": [
      "[<p>前立委黃適卓要國人，以阿富汗為戒，杜絕貪腐與專制、永保自由民主。（摘自黃適卓臉書）</p>, <p>〔記者謝武雄／桃園報導〕美軍撤離阿富汗後，神學士（Taliban，或譯塔利班）大舉攻城掠地，阿富汗總統賈尼（Ashraf Ghani）逃亡離境，神學士宣布成立「阿富汗伊斯蘭酋長國」，也在國內引起熱烈討論；前立委黃適卓今晚也在臉書PO文指出要以阿富汗為戒，「杜絕貪腐與專制，才能永保自由民主的未來」。</p>, <p>黃適卓說，神學士掌權後，各國都憂心恐怖主義是否再起，西方社會彷彿回到911之後氛圍；面對阿富汗變局，台灣當然與自由世界站在同一陣線，堅決反對神學士政權將阿富汗變回恐怖主義溫床；然而擁有先進美軍器械的阿富汗政府軍，因為貪腐失去民心士氣，30萬大軍在塔利班面前竟然不堪一擊，此事有必要公允看待。</p>, <p>在今年4月美軍宣布撤離之後，覬覦中亞地緣政治權力的俄羅斯，第一時間就活化中亞安保條約，赤裸裸的軍事擴張；同樣虎視眈眈的中國，間接表態會承認即將誕生的神學士政府，藉「一帶一路」等經濟計畫，控制未來阿富汗發展。</p>, <p>美國財經媒體CNBC曾指出，阿富汗擁有價值1到3兆美元的稀土礦，而中國可能將與神學士政權共同開採，而與巴基斯坦關係密切的神學士，也可能讓阿富汗連接上中巴經濟走廊，藉此加入中國的一帶一路計畫。</p>, <p>黃適卓說，阿富汗的情況是，走了貪腐的舊政府，來了專制恐怖新政權，軍閥暴力綿延不絕，導致阿富汗戰火不斷；阿富汗帶來的教訓是「民主廉能的政府、強韌且高素質的公民社會、重視公理的友善盟邦，具備前述條件，才能保障國家的自由與繁榮。」</p>, <p>黃適卓表示，台灣不會是阿富汗，因為台灣民意有高度共識，人人願意為自由民主而戰，不論中國威脅壓力多大，不論恐怖主義如何猖狂，台灣人永遠不會屈服於專制貪腐，因為熱愛這片土地，所以會挺身而出、自立自強保護民主自由的未來。</p>]\n"
     ]
    }
   ],
   "source": [
    "for sup in soup:\n",
    "    sp = sup.find_all('p',{'class':None})\n",
    "    print(sp)"
   ]
  },
  {
   "cell_type": "code",
   "execution_count": 34,
   "id": "60ff78fd",
   "metadata": {},
   "outputs": [
    {
     "data": {
      "text/plain": [
       "'黃適卓表示，台灣不會是阿富汗，因為台灣民意有高度共識，人人願意為自由民主而戰，不論中國威脅壓力多大，不論恐怖主義如何猖狂，台灣人永遠不會屈服於專制貪腐，因為熱愛這片土地，所以會挺身而出、自立自強保護民主自由的未來。'"
      ]
     },
     "execution_count": 34,
     "metadata": {},
     "output_type": "execute_result"
    }
   ],
   "source": [
    "for s in sp:\n",
    "    sc = s.get_text()\n",
    "sc"
   ]
  },
  {
   "cell_type": "code",
   "execution_count": 36,
   "id": "b2b5542f",
   "metadata": {},
   "outputs": [
    {
     "data": {
      "text/plain": [
       "['黃適卓表示，台灣不會是阿富汗，因為台灣民意有高度共識，人人願意為自由民主而戰，不論中國威脅壓力多大，不論恐怖主義如何猖狂，台灣人永遠不會屈服於專制貪腐，因為熱愛這片土地，所以會挺身而出、自立自強保護民主自由的未來。',\n",
       " 'qwer']"
      ]
     },
     "execution_count": 36,
     "metadata": {},
     "output_type": "execute_result"
    }
   ],
   "source": [
    "lll = []\n",
    "lll.append(sc)\n",
    "lll.append('qwer')\n",
    "lll"
   ]
  }
 ],
 "metadata": {
  "kernelspec": {
   "display_name": "Python 3",
   "language": "python",
   "name": "python3"
  },
  "language_info": {
   "codemirror_mode": {
    "name": "ipython",
    "version": 3
   },
   "file_extension": ".py",
   "mimetype": "text/x-python",
   "name": "python",
   "nbconvert_exporter": "python",
   "pygments_lexer": "ipython3",
   "version": "3.7.10"
  }
 },
 "nbformat": 4,
 "nbformat_minor": 5
}
