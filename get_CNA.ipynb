{
 "cells": [
  {
   "cell_type": "markdown",
   "id": "38908f5f",
   "metadata": {},
   "source": [
    "## 中央社News"
   ]
  },
  {
   "cell_type": "code",
   "execution_count": 12,
   "id": "afaf07ee",
   "metadata": {},
   "outputs": [],
   "source": [
    "import requests\n",
    "from bs4 import BeautifulSoup\n",
    "import pandas as pd\n",
    "import numpy as np\n",
    "import time"
   ]
  },
  {
   "cell_type": "code",
   "execution_count": 13,
   "id": "c092deba",
   "metadata": {},
   "outputs": [
    {
     "name": "stdout",
     "output_type": "stream",
     "text": [
      "https://www.cna.com.tw/news/firstnews/202109070169.aspx?topic=2012\n",
      "https://www.cna.com.tw/news/firstnews/202109065011.aspx?topic=2012\n",
      "https://www.cna.com.tw/news/firstnews/202109080150.aspx?topic=2012\n",
      "https://www.cna.com.tw/news/firstnews/202109080015.aspx?topic=2012\n",
      "https://www.cna.com.tw/news/firstnews/202109080034.aspx?topic=2012\n"
     ]
    }
   ],
   "source": [
    "urls = pd.read_csv('../CNA_urls.csv')\n",
    "for url in urls['Urls'][:5]:\n",
    "    print(url)"
   ]
  },
  {
   "cell_type": "code",
   "execution_count": 14,
   "id": "de951b65",
   "metadata": {
    "scrolled": true
   },
   "outputs": [
    {
     "name": "stdout",
     "output_type": "stream",
     "text": [
      "第1篇\n",
      "第2篇\n",
      "第3篇\n",
      "第4篇\n",
      "第5篇\n",
      "第6篇\n",
      "第7篇\n",
      "第8篇\n",
      "第9篇\n",
      "第10篇\n",
      "第11篇\n",
      "第12篇\n",
      "第13篇\n",
      "第14篇\n",
      "第15篇\n",
      "第16篇\n",
      "第17篇\n",
      "第18篇\n",
      "第19篇\n",
      "第20篇\n",
      "第21篇\n",
      "第22篇\n",
      "第23篇\n",
      "第24篇\n",
      "第25篇\n",
      "第26篇\n",
      "第27篇\n",
      "第28篇\n",
      "第29篇\n",
      "第30篇\n",
      "第31篇\n",
      "第32篇\n",
      "第33篇\n",
      "第34篇\n",
      "第35篇\n",
      "第36篇\n",
      "第37篇\n",
      "第38篇\n",
      "第39篇\n",
      "第40篇\n",
      "第41篇\n",
      "第42篇\n",
      "第43篇\n",
      "第44篇\n",
      "第45篇\n",
      "第46篇\n",
      "第47篇\n",
      "第48篇\n",
      "第49篇\n",
      "第50篇\n",
      "第51篇\n",
      "第52篇\n",
      "第53篇\n",
      "第54篇\n",
      "第55篇\n",
      "第56篇\n",
      "第57篇\n",
      "第58篇\n",
      "第59篇\n",
      "第60篇\n",
      "第61篇\n",
      "第62篇\n",
      "第63篇\n",
      "第64篇\n",
      "第65篇\n",
      "第66篇\n",
      "第67篇\n",
      "第68篇\n",
      "第69篇\n",
      "第70篇\n",
      "第71篇\n",
      "第72篇\n",
      "第73篇\n",
      "第74篇\n",
      "第75篇\n",
      "第76篇\n",
      "第77篇\n",
      "第78篇\n",
      "第79篇\n",
      "第80篇\n",
      "第81篇\n",
      "第82篇\n",
      "第83篇\n",
      "第84篇\n",
      "第85篇\n",
      "第86篇\n",
      "第87篇\n"
     ]
    }
   ],
   "source": [
    "content = []\n",
    "n = 1\n",
    "\n",
    "for url in urls['Urls']:\n",
    "    response = requests.get(url)#headers=headers)\n",
    "    time.sleep(3)\n",
    "    soup = BeautifulSoup(response.text,'lxml')\n",
    "    tags = soup.find_all('p')\n",
    "    for tag in tags:\n",
    "        content.append(tag)\n",
    "    print(f'第{n}篇')\n",
    "    n+=1"
   ]
  },
  {
   "cell_type": "code",
   "execution_count": 15,
   "id": "df708cc6",
   "metadata": {},
   "outputs": [
    {
     "data": {
      "text/plain": [
       "810"
      ]
     },
     "execution_count": 15,
     "metadata": {},
     "output_type": "execute_result"
    }
   ],
   "source": [
    "len(content)"
   ]
  },
  {
   "cell_type": "code",
   "execution_count": 18,
   "id": "c47438a6",
   "metadata": {},
   "outputs": [],
   "source": [
    "text = pd.DataFrame({'text':content,'Label':np.ones(len(content))+1})"
   ]
  },
  {
   "cell_type": "code",
   "execution_count": 19,
   "id": "1d12e415",
   "metadata": {},
   "outputs": [],
   "source": [
    "text.drop_duplicates(inplace=True)"
   ]
  },
  {
   "cell_type": "code",
   "execution_count": 20,
   "id": "bd7d663c",
   "metadata": {},
   "outputs": [],
   "source": [
    "text.to_csv('CNA_news_label.csv')"
   ]
  },
  {
   "cell_type": "code",
   "execution_count": 6,
   "id": "f9a8dd6b",
   "metadata": {},
   "outputs": [],
   "source": [
    "url = 'https://www.cna.com.tw/news/firstnews/202109075009.aspx?topic=2012'\n",
    "\n",
    "response = requests.get(url)#headers=headers)\n",
    "soup = BeautifulSoup(response.text,'lxml')"
   ]
  },
  {
   "cell_type": "code",
   "execution_count": 7,
   "id": "941be792",
   "metadata": {},
   "outputs": [],
   "source": [
    "tags = soup.find_all('p')"
   ]
  },
  {
   "cell_type": "code",
   "execution_count": 8,
   "id": "f7f40458",
   "metadata": {},
   "outputs": [
    {
     "name": "stdout",
     "output_type": "stream",
     "text": [
      "[<p>（中央社網站7日電）中秋節連假即將到來，疫情警戒好不容易降回二級，但9月初接連發生國籍機師突破性感染、新北市幼兒園群聚案，不少民眾關心中秋烤肉活動能不能如期舉辦？中央流行疫情指揮中心5日表示，中秋烤肉防疫規定18日才能決定，不過許多縣市已提前宣布禁止戶外烤肉。中央社整理各縣市中秋烤肉規定：</p>, <p class=\"warning\"><font color=\"blue\">台北市</font></p>, <p></p>, <p>市府不辦中秋相關活動，市民要遵守中央室內80人、室外300人等防疫規範。至於民眾能否烤肉？台北市長柯文哲表示，原預計13日公布，但現在要預測兩週以後的事很難，也不用太恐慌。</p>, <p class=\"warning\"><font color=\"blue\">新北市</font></p>, <p></p>, <p>禁止河濱公園烤肉，也不建議在自家門前及社區烤肉。</p>, <p class=\"warning\"><font color=\"blue\">台中市</font></p>, <p></p>, <p>戶外公共場域一律禁止烤肉活動，包含公園、河濱、社區中庭、私人收費停車場、自家門前騎樓、公寓社區頂樓等會與不特定人士接觸等場域；家裡烤肉則以同住家人為限。經勸導不聽者，將依傳染病防治法處新台幣3000元至1萬5000元以下罰鍰。</p>, <p class=\"warning\"><font color=\"blue\">台南市</font></p>, <p></p>, <p>建議民眾盡量在家門口烤肉，若是住在公寓大廈又有陽台，就在陽台烤肉，假如沒有陽台或陽台密閉的話，可能吃火鍋比較好。</p>, <p class=\"warning\"><font color=\"blue\">高雄市</font></p>, <p></p>, <p>禁止戶外各類公共場所及騎樓烤肉，也禁止公私團體舉辦烤肉活動；烤肉僅限與同住家人在家中或外人無法經過的家戶圍牆、前庭後院內。</p>, <p>從北部回來過節的非同住者，或有北部旅遊史者，建議在家不要拿下口罩、不參與烤肉活動，盡量待在家中房間等獨立空間再拿下口罩。</p>, <p class=\"warning\"><font color=\"blue\">基隆市</font></p>, <p></p>, <p>公共場所一律禁止烤肉，民眾可以在家裡和同住家人烤肉。</p>, <p class=\"warning\"><font color=\"blue\">新竹市</font></p>, <p></p>, <p>不開放任何公共場所烤肉及相關活動，僅同住家人可居家烤肉。</p>, <p class=\"warning\"><font color=\"blue\">彰化縣</font></p>, <p></p>, <p>不建議、不鼓勵、不補助辦理社區烤肉活動，禁止在社區活動中心、宮廟廣場、公園、風景區、停車場等公共場所或政府機關場所辦理烤肉活動。烤肉以同住家人在家戶進行為宜，避免跨縣市的大型家族烤肉聚會。</p>, <p class=\"warning\"><font color=\"blue\">南投縣</font></p>, <p></p>, <p>戶外公共場域一律禁止烤肉，也不鼓勵家戶烤肉活動，若要舉辦則以同住家人為原則。詳細執行細節、禁止期間等，待衛生局公告。</p>, <p class=\"warning\"><font color=\"blue\">雲林縣</font></p>, <p></p>, <p>僅開放同住家人自家庭院烤肉，禁止社團、社區舉辦中秋節活動。</p>, <p class=\"warning\"><font color=\"blue\">嘉義縣</font></p>, <p></p>, <p>不開放戶外公共場域、社區、社團烤肉及聯歡活動，僅開放同住家人自家烤肉。</p>, <p class=\"warning\"><font color=\"blue\">嘉義市</font></p>, <p></p>, <p>建議社區、社團取消中秋相關活動，但同住者可一起烤肉。</p>, <p class=\"warning\"><font color=\"blue\">宜蘭縣</font></p>, <p></p>, <p>即日起不開放公共場所、社團及社區的烤肉活動，但民眾自行在家烤肉不在限制內；不過，對象仍須以同住家人為原則，並落實防疫相關規定，違反者可依傳染病防治法開罰。</p>, <p class=\"warning\"><font color=\"blue\">台東縣</font></p>, <p></p>, <p>禁止在騎樓等公共場所烤肉，自家庭院私人場地則不受限。台東市興國里每年都會舉辦的封街烤肉活動停辦。</p>, <p>（編輯：李念庭、王靖怡）</p>]\n"
     ]
    }
   ],
   "source": [
    "cc = []\n",
    "tags.pop()\n",
    "for tag in tags:\n",
    "    cc.append(tag)\n",
    "print(cc)"
   ]
  },
  {
   "cell_type": "code",
   "execution_count": 5,
   "id": "ae6380c3",
   "metadata": {},
   "outputs": [
    {
     "data": {
      "text/plain": [
       "[<p>（中央社記者陳婕翎、江慧珺台北7日電）國內COVID-19疫情持續，除Delta變種病毒長榮機師案，還有陽性率偏高新北幼兒園群聚，指揮中心指揮官陳時中今天坦言，若新北疫情未控制住，不排除全國升回三級警戒。</p>,\n",
       " <p>確診COVID-19（2019冠狀病毒疾病）的長榮貨機機師為案16119及案16120，2個案已匡列315人隔離及進行PCR檢驗，除案16120機師兒子（案16122）為陽性，其餘306人為陰性，8人檢驗中。中央流行疫情指揮中心指揮官陳時中表示，現在看起來情況趨於穩定。</p>,\n",
       " <p>至於新北市某幼兒園COVID-19群聚案，最初是土城一對夫妻染疫，妻子是幼兒園老師，這起群聚截至今天上午染疫人數已達15人。幼兒園群聚匡列411人，362人列居家隔離、49人自主健康管理。</p>,\n",
       " <p>陳時中表示，新北市昨天已跟進桃園市管理方式，採取加強二級防疫措施，包含小學預防性停課，疫調檢驗持續進行中。</p>,\n",
       " <p>陳時中表示，目前還沒規劃將全國疫情警戒升至第三級，但若新北疫情未能妥善控制，當然會考慮升級至第三級，「不過都是假設情況，重要是把疫調匡列好。」（編輯：張雅淨）1100907</p>]"
      ]
     },
     "execution_count": 5,
     "metadata": {},
     "output_type": "execute_result"
    }
   ],
   "source": [
    "cc"
   ]
  }
 ],
 "metadata": {
  "kernelspec": {
   "display_name": "Python 3",
   "language": "python",
   "name": "python3"
  },
  "language_info": {
   "codemirror_mode": {
    "name": "ipython",
    "version": 3
   },
   "file_extension": ".py",
   "mimetype": "text/x-python",
   "name": "python",
   "nbconvert_exporter": "python",
   "pygments_lexer": "ipython3",
   "version": "3.7.10"
  }
 },
 "nbformat": 4,
 "nbformat_minor": 5
}
